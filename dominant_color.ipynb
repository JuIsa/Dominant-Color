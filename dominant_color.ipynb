{
  "nbformat": 4,
  "nbformat_minor": 0,
  "metadata": {
    "colab": {
      "provenance": [],
      "authorship_tag": "ABX9TyMwQgj9uTLoFNQIgAfIPa6m",
      "include_colab_link": true
    },
    "kernelspec": {
      "name": "python3",
      "display_name": "Python 3"
    },
    "language_info": {
      "name": "python"
    }
  },
  "cells": [
    {
      "cell_type": "markdown",
      "metadata": {
        "id": "view-in-github",
        "colab_type": "text"
      },
      "source": [
        "<a href=\"https://colab.research.google.com/github/JuIsa/Dominant-Color/blob/main/dominant_color.ipynb\" target=\"_parent\"><img src=\"https://colab.research.google.com/assets/colab-badge.svg\" alt=\"Open In Colab\"/></a>"
      ]
    },
    {
      "cell_type": "code",
      "execution_count": 2,
      "metadata": {
        "id": "qgKgUCCrI-vv"
      },
      "outputs": [],
      "source": [
        "import scipy.cluster\n",
        "import sklearn.cluster\n",
        "import numpy as np\n",
        "from PIL import Image\n",
        "\n",
        "def get_dominant_colors(image):  # \n",
        "    scale = 3\n",
        "    image = image.crop((0, 90, image.width, 628))\n",
        "    image = image.resize((image.width//scale, image.height//scale))# optional, to reduce time\n",
        "    ar = np.asarray(image)\n",
        "    shape = ar.shape\n",
        "    ar = ar.reshape(np.product(shape[:2]), shape[2]).astype(float)\n",
        "\n",
        "    kmeans = sklearn.cluster.MiniBatchKMeans(\n",
        "        n_clusters=10,\n",
        "        init=\"k-means++\",\n",
        "        max_iter=20,\n",
        "        random_state=1000\n",
        "    ).fit(ar)\n",
        "    codes = kmeans.cluster_centers_\n",
        "\n",
        "    vecs, _dist = scipy.cluster.vq.vq(ar, codes)         # assign codes\n",
        "    counts, _bins = np.histogram(vecs, len(codes))    # count occurrences\n",
        "\n",
        "    colors = []\n",
        "    for index in np.argsort(counts)[::-1]:\n",
        "        colors.append(tuple([int(code) for code in codes[index]]))\n",
        "    return colors         "
      ]
    },
    {
      "cell_type": "code",
      "source": [
        "img = Image.open('fake.jpg')\n",
        "# colors = dominant_colors(img)\n",
        "ar = np.asarray(img)\n",
        "shape = ar.shape\n",
        "ar[0,0]"
      ],
      "metadata": {
        "colab": {
          "base_uri": "https://localhost:8080/"
        },
        "id": "cz5dNVAyyMXx",
        "outputId": "7e516c13-c2a5-4c21-9d47-5e3064a4d7b7"
      },
      "execution_count": 10,
      "outputs": [
        {
          "output_type": "execute_result",
          "data": {
            "text/plain": [
              "array([132, 132, 132], dtype=uint8)"
            ]
          },
          "metadata": {},
          "execution_count": 10
        }
      ]
    },
    {
      "cell_type": "code",
      "source": [
        "ar = ar.reshape(np.product(shape[:2]), shape[2]).astype(float)\n",
        "ar[0,0]"
      ],
      "metadata": {
        "colab": {
          "base_uri": "https://localhost:8080/"
        },
        "id": "RF9knKFQyj5E",
        "outputId": "e5fdf323-b614-420c-9ae7-6ba8b9d66a78"
      },
      "execution_count": 11,
      "outputs": [
        {
          "output_type": "execute_result",
          "data": {
            "text/plain": [
              "132.0"
            ]
          },
          "metadata": {},
          "execution_count": 11
        }
      ]
    },
    {
      "cell_type": "code",
      "source": [
        "import warnings\n",
        "warnings.filterwarnings(\"ignore\")"
      ],
      "metadata": {
        "id": "7_4hdGMA1AaY"
      },
      "execution_count": 4,
      "outputs": []
    },
    {
      "cell_type": "code",
      "source": [
        "img = Image.open('/frame-0.png')\n",
        "colors = dominant_colors(img)"
      ],
      "metadata": {
        "colab": {
          "base_uri": "https://localhost:8080/"
        },
        "id": "QI7Ll8LBJIW-",
        "outputId": "dd156594-354d-4a06-bf7c-a817999cc2e1"
      },
      "execution_count": null,
      "outputs": [
        {
          "output_type": "stream",
          "name": "stderr",
          "text": [
            "WARNING:py.warnings:/usr/local/lib/python3.10/dist-packages/sklearn/cluster/_kmeans.py:870: FutureWarning: The default value of `n_init` will change from 3 to 'auto' in 1.4. Set the value of `n_init` explicitly to suppress the warning\n",
            "  warnings.warn(\n",
            "\n"
          ]
        }
      ]
    },
    {
      "cell_type": "code",
      "source": [],
      "metadata": {
        "id": "0tMpNws0wYGc"
      },
      "execution_count": 11,
      "outputs": []
    },
    {
      "cell_type": "code",
      "source": [],
      "metadata": {
        "colab": {
          "base_uri": "https://localhost:8080/",
          "height": 47
        },
        "id": "ofAvAMeLxQxs",
        "outputId": "f26992c0-a8ae-4749-9a89-1eb45f80dd64"
      },
      "execution_count": null,
      "outputs": [
        {
          "output_type": "display_data",
          "data": {
            "text/plain": [
              "<PIL.Image.Image image mode=RGB size=300x30 at 0x7F1BD040B760>"
            ],
            "image/png": "[encoded data removed]"
          },
          "metadata": {}
        }
      ]
    },
    {
      "cell_type": "code",
      "source": [
        "import os\n",
        "import cv2\n",
        "import moviepy.editor"
      ],
      "metadata": {
        "id": "aTvqBWLMKP5F"
      },
      "execution_count": 5,
      "outputs": []
    },
    {
      "cell_type": "code",
      "source": [
        "def get_frames(vid, output, rate=0.33, frameName='frame'):\n",
        "    vidcap = cv2.VideoCapture(vid)\n",
        "    clip = moviepy.editor.VideoFileClip(vid)\n",
        "    seconds = clip.duration\n",
        "    print('durration: ' + str(seconds))\n",
        "    \n",
        "    count = 0\n",
        "    frame = 0\n",
        "    \n",
        "    if not os.path.isdir(output):\n",
        "        os.mkdir(output)\n",
        "    \n",
        "    success = True\n",
        "    while success:\n",
        "        vidcap.set(cv2.CAP_PROP_POS_MSEC,frame*1000)      \n",
        "        success,image = vidcap.read()\n",
        "\n",
        "        ## Stop when last frame is identified\n",
        "        print(frame)\n",
        "        if frame > seconds or not success:\n",
        "            break\n",
        "\n",
        "        print('extracting frame ' + frameName + '-%d.png' % count)\n",
        "        name = output + '/' + frameName + '-%d.png' % count # save frame as PNG file\n",
        "        cv2.imwrite(name, image)\n",
        "        frame += rate\n",
        "        count += 1"
      ],
      "metadata": {
        "id": "982XQyLmOsv-"
      },
      "execution_count": 6,
      "outputs": []
    },
    {
      "cell_type": "code",
      "source": [],
      "metadata": {
        "id": "SyPM53ieOyqQ"
      },
      "execution_count": null,
      "outputs": []
    },
    {
      "cell_type": "code",
      "source": [],
      "metadata": {
        "id": "MdbGa-_zPGIw"
      },
      "execution_count": null,
      "outputs": []
    },
    {
      "cell_type": "code",
      "source": [],
      "metadata": {
        "id": "tF4X-Bggv_aE"
      },
      "execution_count": null,
      "outputs": []
    },
    {
      "cell_type": "code",
      "source": [
        "get_frames('spiderverse.mp4', 'spider')"
      ],
      "metadata": {
        "id": "irEedw05y38C"
      },
      "execution_count": null,
      "outputs": []
    },
    {
      "cell_type": "code",
      "source": [
        "n = 513\n",
        "img_sp = np.zeros((30, n, 3), dtype=np.uint8)\n",
        "\n",
        "for i in range(n):\n",
        "   img = Image.open('spider/frame-'+str(i)+'.png')\n",
        "   colors = get_dominant_colors(img)\n",
        "   img_sp[:,i] = colors[0]\n",
        "   if i%25==0:\n",
        "    print(i,' is done ',n)\n",
        "print('Done')"
      ],
      "metadata": {
        "colab": {
          "base_uri": "https://localhost:8080/"
        },
        "id": "WvFmjgX2zaKU",
        "outputId": "a05642d0-b76e-439c-c021-4180412672b4"
      },
      "execution_count": 8,
      "outputs": [
        {
          "output_type": "stream",
          "name": "stdout",
          "text": [
            "0  is done  513\n",
            "25  is done  513\n",
            "50  is done  513\n",
            "75  is done  513\n",
            "100  is done  513\n",
            "125  is done  513\n",
            "150  is done  513\n",
            "175  is done  513\n",
            "200  is done  513\n",
            "225  is done  513\n",
            "250  is done  513\n",
            "275  is done  513\n",
            "300  is done  513\n",
            "325  is done  513\n",
            "350  is done  513\n",
            "375  is done  513\n",
            "400  is done  513\n",
            "425  is done  513\n",
            "450  is done  513\n",
            "475  is done  513\n",
            "500  is done  513\n"
          ]
        }
      ]
    },
    {
      "cell_type": "code",
      "source": [
        "res = Image.fromarray(img_sp, \"RGB\")\n",
        "# Display the Numpy array as Image\n",
        "res.show()"
      ],
      "metadata": {
        "colab": {
          "base_uri": "https://localhost:8080/",
          "height": 47
        },
        "id": "06xr5FmA0ouO",
        "outputId": "e87da888-37e9-4216-c399-f3633ab2fc2d"
      },
      "execution_count": 9,
      "outputs": [
        {
          "output_type": "display_data",
          "data": {
            "text/plain": [
              "<PIL.Image.Image image mode=RGB size=513x30 at 0x7FC27F3397B0>"
            ],
            "image/png": "[encoded data removed]"
          },
          "metadata": {}
        }
      ]
    },
    {
      "cell_type": "code",
      "source": [
        "image_filename = \"color-line.png\"\n",
        "res.save(image_filename)"
      ],
      "metadata": {
        "id": "_WH7CD0xB-4w"
      },
      "execution_count": 10,
      "outputs": []
    },
    {
      "cell_type": "code",
      "source": [
        "import os\n",
        "for i in range(n):\n",
        "  os.remove('spider/frame-'+str(i)+'.png')"
      ],
      "metadata": {
        "id": "WZcbljFj1Q07"
      },
      "execution_count": 2,
      "outputs": []
    }
  ]
}