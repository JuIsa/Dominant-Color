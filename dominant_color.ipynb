{
  "nbformat": 4,
  "nbformat_minor": 0,
  "metadata": {
    "colab": {
      "provenance": [],
      "mount_file_id": "1MRTUbgTOZx8r-hrjD2oZIC45uVvCMlYD",
      "authorship_tag": "ABX9TyOlg2BsapZUtkUtX4GB9PdZ",
      "include_colab_link": true
    },
    "kernelspec": {
      "name": "python3",
      "display_name": "Python 3"
    },
    "language_info": {
      "name": "python"
    }
  },
  "cells": [
    {
      "cell_type": "markdown",
      "metadata": {
        "id": "view-in-github",
        "colab_type": "text"
      },
      "source": [
        "<a href=\"https://colab.research.google.com/github/JuIsa/Dominant-Color/blob/main/dominant_color.ipynb\" target=\"_parent\"><img src=\"https://colab.research.google.com/assets/colab-badge.svg\" alt=\"Open In Colab\"/></a>"
      ]
    },
    {
      "cell_type": "code",
      "execution_count": 2,
      "metadata": {
        "id": "qgKgUCCrI-vv"
      },
      "outputs": [],
      "source": [
        "import scipy.cluster\n",
        "import sklearn.cluster\n",
        "import numpy as np\n",
        "from PIL import Image\n",
        "import os\n",
        "import cv2\n",
        "import moviepy.editor\n",
        "import warnings\n",
        "warnings.filterwarnings(\"ignore\")\n"
      ]
    },
    {
      "cell_type": "code",
      "source": [
        "def get_dominant_colors(image):  # \n",
        "    scale = 3\n",
        "    image = image.crop((0, 90, image.width, 628))\n",
        "    image = image.resize((image.width//scale, image.height//scale))# optional, to reduce time\n",
        "    ar = np.asarray(image)\n",
        "    shape = ar.shape\n",
        "    ar = ar.reshape(np.product(shape[:2]), shape[2]).astype(float)\n",
        "\n",
        "    kmeans = sklearn.cluster.MiniBatchKMeans(\n",
        "        n_clusters=10,\n",
        "        init=\"k-means++\",\n",
        "        max_iter=20,\n",
        "        random_state=1000\n",
        "    ).fit(ar)\n",
        "    codes = kmeans.cluster_centers_\n",
        "\n",
        "    vecs, _dist = scipy.cluster.vq.vq(ar, codes)         # assign codes\n",
        "    counts, _bins = np.histogram(vecs, len(codes))    # count occurrences\n",
        "\n",
        "    colors = []\n",
        "    for index in np.argsort(counts)[::-1]:\n",
        "        colors.append(tuple([int(code) for code in codes[index]]))\n",
        "    return colors         "
      ],
      "metadata": {
        "id": "7_4hdGMA1AaY"
      },
      "execution_count": 3,
      "outputs": []
    },
    {
      "cell_type": "code",
      "source": [
        "def get_frames(vid, output, rate=0.33, frameName='frame'):\n",
        "    vidcap = cv2.VideoCapture(vid)\n",
        "    clip = moviepy.editor.VideoFileClip(vid)\n",
        "    seconds = clip.duration\n",
        "    print('durration: ' + str(seconds))\n",
        "    \n",
        "    count = 0\n",
        "    frame = 0\n",
        "    \n",
        "    if not os.path.isdir(output):\n",
        "        os.mkdir(output)\n",
        "    \n",
        "    success = True\n",
        "    while success:\n",
        "        vidcap.set(cv2.CAP_PROP_POS_MSEC,frame*1000)      \n",
        "        success,image = vidcap.read()\n",
        "\n",
        "        ## Stop when last frame is identified\n",
        "        print(frame)\n",
        "        if frame > seconds or not success:\n",
        "            break\n",
        "\n",
        "        print('extracting frame ' + frameName + '-%d.png' % count)\n",
        "        name = output + '/' + frameName + '-%d.png' % count # save frame as PNG file\n",
        "        cv2.imwrite(name, image)\n",
        "        frame += rate\n",
        "        count += 1"
      ],
      "metadata": {
        "id": "982XQyLmOsv-"
      },
      "execution_count": 5,
      "outputs": []
    },
    {
      "cell_type": "code",
      "source": [
        "def generate_image(n):\n",
        "  img_sp = np.zeros((30, n, 3), dtype=np.uint8)\n",
        "  for i in range(n):\n",
        "    img = Image.open('spider/frame-'+str(i)+'.png')\n",
        "    colors = get_dominant_colors(img)\n",
        "    img_sp[:,i] = colors[0]\n",
        "    if i%25==0:\n",
        "      print(i,' is done ',n)\n",
        "  print('Done')\n",
        "  return img_sp"
      ],
      "metadata": {
        "id": "WvFmjgX2zaKU"
      },
      "execution_count": null,
      "outputs": []
    },
    {
      "cell_type": "code",
      "source": [
        "def save_img(img_sp):\n",
        "  res = Image.fromarray(img_sp, \"RGB\")\n",
        "  res.show()\n",
        "  image_filename = \"color-line.png\"\n",
        "  res.save(image_filename)"
      ],
      "metadata": {
        "colab": {
          "base_uri": "https://localhost:8080/",
          "height": 47
        },
        "id": "06xr5FmA0ouO",
        "outputId": "5dc0a10d-e837-49a6-a654-1a45b69893c0"
      },
      "execution_count": 8,
      "outputs": [
        {
          "output_type": "display_data",
          "data": {
            "text/plain": [
              "<PIL.Image.Image image mode=RGB size=513x30 at 0x7F843A3AE170>"
            ],
            "image/png": "[encoded data removed]"
          },
          "metadata": {}
        }
      ]
    },
    {
      "cell_type": "code",
      "source": [
        "def delete_images():\n",
        "  import os\n",
        "  for i in range(n):\n",
        "    os.remove('spider/frame-'+str(i)+'.png')"
      ],
      "metadata": {
        "id": "WZcbljFj1Q07"
      },
      "execution_count": null,
      "outputs": []
    },
    {
      "cell_type": "code",
      "source": [
        "n = get_frames('drive/MyDrive/spiderverse.mp4', 'spider')\n",
        "img = generate_image(n)\n",
        "save_img(img)"
      ],
      "metadata": {
        "id": "irEedw05y38C"
      },
      "execution_count": null,
      "outputs": []
    }
  ]
}